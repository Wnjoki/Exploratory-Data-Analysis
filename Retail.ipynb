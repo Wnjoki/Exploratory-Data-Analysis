{
 "cells": [
  {
   "cell_type": "markdown",
   "metadata": {},
   "source": [
    "**Performing Exploratory Data Analysis on ''SampleSuperstore'' dataset**"
   ]
  },
  {
   "cell_type": "code",
   "execution_count": 2,
   "metadata": {},
   "outputs": [
    {
     "data": {
      "text/html": [
       "<div>\n",
       "<style scoped>\n",
       "    .dataframe tbody tr th:only-of-type {\n",
       "        vertical-align: middle;\n",
       "    }\n",
       "\n",
       "    .dataframe tbody tr th {\n",
       "        vertical-align: top;\n",
       "    }\n",
       "\n",
       "    .dataframe thead th {\n",
       "        text-align: right;\n",
       "    }\n",
       "</style>\n",
       "<table border=\"1\" class=\"dataframe\">\n",
       "  <thead>\n",
       "    <tr style=\"text-align: right;\">\n",
       "      <th></th>\n",
       "      <th>Ship Mode</th>\n",
       "      <th>Segment</th>\n",
       "      <th>Country</th>\n",
       "      <th>City</th>\n",
       "      <th>State</th>\n",
       "      <th>Postal Code</th>\n",
       "      <th>Region</th>\n",
       "      <th>Category</th>\n",
       "      <th>Sub-Category</th>\n",
       "      <th>Sales</th>\n",
       "      <th>Quantity</th>\n",
       "      <th>Discount</th>\n",
       "      <th>Profit</th>\n",
       "    </tr>\n",
       "  </thead>\n",
       "  <tbody>\n",
       "    <tr>\n",
       "      <th>0</th>\n",
       "      <td>Second Class</td>\n",
       "      <td>Consumer</td>\n",
       "      <td>United States</td>\n",
       "      <td>Henderson</td>\n",
       "      <td>Kentucky</td>\n",
       "      <td>42420</td>\n",
       "      <td>South</td>\n",
       "      <td>Furniture</td>\n",
       "      <td>Bookcases</td>\n",
       "      <td>261.9600</td>\n",
       "      <td>2</td>\n",
       "      <td>0.00</td>\n",
       "      <td>41.9136</td>\n",
       "    </tr>\n",
       "    <tr>\n",
       "      <th>1</th>\n",
       "      <td>Second Class</td>\n",
       "      <td>Consumer</td>\n",
       "      <td>United States</td>\n",
       "      <td>Henderson</td>\n",
       "      <td>Kentucky</td>\n",
       "      <td>42420</td>\n",
       "      <td>South</td>\n",
       "      <td>Furniture</td>\n",
       "      <td>Chairs</td>\n",
       "      <td>731.9400</td>\n",
       "      <td>3</td>\n",
       "      <td>0.00</td>\n",
       "      <td>219.5820</td>\n",
       "    </tr>\n",
       "    <tr>\n",
       "      <th>2</th>\n",
       "      <td>Second Class</td>\n",
       "      <td>Corporate</td>\n",
       "      <td>United States</td>\n",
       "      <td>Los Angeles</td>\n",
       "      <td>California</td>\n",
       "      <td>90036</td>\n",
       "      <td>West</td>\n",
       "      <td>Office Supplies</td>\n",
       "      <td>Labels</td>\n",
       "      <td>14.6200</td>\n",
       "      <td>2</td>\n",
       "      <td>0.00</td>\n",
       "      <td>6.8714</td>\n",
       "    </tr>\n",
       "    <tr>\n",
       "      <th>3</th>\n",
       "      <td>Standard Class</td>\n",
       "      <td>Consumer</td>\n",
       "      <td>United States</td>\n",
       "      <td>Fort Lauderdale</td>\n",
       "      <td>Florida</td>\n",
       "      <td>33311</td>\n",
       "      <td>South</td>\n",
       "      <td>Furniture</td>\n",
       "      <td>Tables</td>\n",
       "      <td>957.5775</td>\n",
       "      <td>5</td>\n",
       "      <td>0.45</td>\n",
       "      <td>-383.0310</td>\n",
       "    </tr>\n",
       "    <tr>\n",
       "      <th>4</th>\n",
       "      <td>Standard Class</td>\n",
       "      <td>Consumer</td>\n",
       "      <td>United States</td>\n",
       "      <td>Fort Lauderdale</td>\n",
       "      <td>Florida</td>\n",
       "      <td>33311</td>\n",
       "      <td>South</td>\n",
       "      <td>Office Supplies</td>\n",
       "      <td>Storage</td>\n",
       "      <td>22.3680</td>\n",
       "      <td>2</td>\n",
       "      <td>0.20</td>\n",
       "      <td>2.5164</td>\n",
       "    </tr>\n",
       "  </tbody>\n",
       "</table>\n",
       "</div>"
      ],
      "text/plain": [
       "        Ship Mode    Segment        Country             City       State  \\\n",
       "0    Second Class   Consumer  United States        Henderson    Kentucky   \n",
       "1    Second Class   Consumer  United States        Henderson    Kentucky   \n",
       "2    Second Class  Corporate  United States      Los Angeles  California   \n",
       "3  Standard Class   Consumer  United States  Fort Lauderdale     Florida   \n",
       "4  Standard Class   Consumer  United States  Fort Lauderdale     Florida   \n",
       "\n",
       "   Postal Code Region         Category Sub-Category     Sales  Quantity  \\\n",
       "0        42420  South        Furniture    Bookcases  261.9600         2   \n",
       "1        42420  South        Furniture       Chairs  731.9400         3   \n",
       "2        90036   West  Office Supplies       Labels   14.6200         2   \n",
       "3        33311  South        Furniture       Tables  957.5775         5   \n",
       "4        33311  South  Office Supplies      Storage   22.3680         2   \n",
       "\n",
       "   Discount    Profit  \n",
       "0      0.00   41.9136  \n",
       "1      0.00  219.5820  \n",
       "2      0.00    6.8714  \n",
       "3      0.45 -383.0310  \n",
       "4      0.20    2.5164  "
      ]
     },
     "execution_count": 2,
     "metadata": {},
     "output_type": "execute_result"
    }
   ],
   "source": [
    "# Importing the libraries\n",
    "import numpy as np\n",
    "import matplotlib.pyplot as plt\n",
    "import pandas as pd\n",
    "\n",
    "\n",
    "# Load the  dataset\n",
    "df = pd.read_csv(\"C:/Users/omuku/OneDrive/Desktop/Desktop/GRIP/Exploratory-Data-Analysis/SampleSuperstore.csv\")\n",
    "df.head() # See the first 5 rows"
   ]
  },
  {
   "cell_type": "code",
   "execution_count": 3,
   "metadata": {},
   "outputs": [
    {
     "data": {
      "text/plain": [
       "(9994, 13)"
      ]
     },
     "execution_count": 3,
     "metadata": {},
     "output_type": "execute_result"
    }
   ],
   "source": [
    "# Shape of the data\n",
    "df.shape"
   ]
  },
  {
   "cell_type": "code",
   "execution_count": 4,
   "metadata": {},
   "outputs": [
    {
     "name": "stdout",
     "output_type": "stream",
     "text": [
      "Series([], dtype: int64)\n"
     ]
    }
   ],
   "source": [
    "# Count missing values in each column\n",
    "missing_values = df.isnull().sum()\n",
    "\n",
    "# Display columns with missing values\n",
    "print(missing_values[missing_values > 0])\n"
   ]
  },
  {
   "cell_type": "markdown",
   "metadata": {},
   "source": [
    "No missing values in the dataframe\n"
   ]
  },
  {
   "cell_type": "code",
   "execution_count": 5,
   "metadata": {},
   "outputs": [
    {
     "name": "stdout",
     "output_type": "stream",
     "text": [
      "<class 'pandas.core.frame.DataFrame'>\n",
      "RangeIndex: 9994 entries, 0 to 9993\n",
      "Data columns (total 13 columns):\n",
      " #   Column        Non-Null Count  Dtype  \n",
      "---  ------        --------------  -----  \n",
      " 0   Ship Mode     9994 non-null   object \n",
      " 1   Segment       9994 non-null   object \n",
      " 2   Country       9994 non-null   object \n",
      " 3   City          9994 non-null   object \n",
      " 4   State         9994 non-null   object \n",
      " 5   Postal Code   9994 non-null   int64  \n",
      " 6   Region        9994 non-null   object \n",
      " 7   Category      9994 non-null   object \n",
      " 8   Sub-Category  9994 non-null   object \n",
      " 9   Sales         9994 non-null   float64\n",
      " 10  Quantity      9994 non-null   int64  \n",
      " 11  Discount      9994 non-null   float64\n",
      " 12  Profit        9994 non-null   float64\n",
      "dtypes: float64(3), int64(2), object(8)\n",
      "memory usage: 1015.1+ KB\n",
      "None\n",
      "        Postal Code         Sales     Quantity     Discount       Profit\n",
      "count   9994.000000   9994.000000  9994.000000  9994.000000  9994.000000\n",
      "mean   55190.379428    229.858001     3.789574     0.156203    28.656896\n",
      "std    32063.693350    623.245101     2.225110     0.206452   234.260108\n",
      "min     1040.000000      0.444000     1.000000     0.000000 -6599.978000\n",
      "25%    23223.000000     17.280000     2.000000     0.000000     1.728750\n",
      "50%    56430.500000     54.490000     3.000000     0.200000     8.666500\n",
      "75%    90008.000000    209.940000     5.000000     0.200000    29.364000\n",
      "max    99301.000000  22638.480000    14.000000     0.800000  8399.976000\n"
     ]
    }
   ],
   "source": [
    "# Get basic information about the dataset\n",
    "print(df.info())\n",
    "\n",
    "# Summary statistics\n",
    "print(df.describe())"
   ]
  },
  {
   "cell_type": "markdown",
   "metadata": {},
   "source": [
    "**Summarizing Key Features of the Dataset**"
   ]
  },
  {
   "cell_type": "code",
   "execution_count": 6,
   "metadata": {},
   "outputs": [
    {
     "name": "stdout",
     "output_type": "stream",
     "text": [
      "                       Sales                                Profit             \\\n",
      "                         sum        mean          std          sum       mean   \n",
      "Category                                                                        \n",
      "Furniture        741999.7953  349.834887   503.179145   18451.2728   8.699327   \n",
      "Office Supplies  719047.0320  119.324101   382.182228  122490.8008  20.327050   \n",
      "Technology       836154.0330  452.709276  1108.655848  145454.9481  78.752002   \n",
      "\n",
      "                             \n",
      "                        std  \n",
      "Category                     \n",
      "Furniture        136.049246  \n",
      "Office Supplies  164.887280  \n",
      "Technology       428.816633  \n",
      "               Sales                               Profit             \\\n",
      "                 sum        mean         std          sum       mean   \n",
      "Region                                                                 \n",
      "Central  501239.8908  215.772661  632.779010   39706.3625  17.092709   \n",
      "East     678781.2400  238.336110  620.712652   91522.7800  32.135808   \n",
      "South    391721.9050  241.803645  774.796273   46749.4303  28.857673   \n",
      "West     725457.8245  226.493233  524.876877  108418.4489  33.849032   \n",
      "\n",
      "                     \n",
      "                std  \n",
      "Region               \n",
      "Central  291.487465  \n",
      "East     251.605084  \n",
      "South    212.893088  \n",
      "West     174.109081  \n"
     ]
    }
   ],
   "source": [
    "# Sales and profit summary by category\n",
    "category_summary = df.groupby('Category').agg({'Sales': ['sum', 'mean', 'std'], 'Profit': ['sum', 'mean', 'std']})\n",
    "print(category_summary)\n",
    "\n",
    "# Sales summary by region\n",
    "region_summary = df.groupby('Region').agg({'Sales': ['sum', 'mean', 'std'], 'Profit': ['sum', 'mean', 'std']})\n",
    "print(region_summary)\n",
    "\n"
   ]
  },
  {
   "cell_type": "markdown",
   "metadata": {},
   "source": [
    "**Creating Dashboards**"
   ]
  },
  {
   "cell_type": "markdown",
   "metadata": {},
   "source": [
    "We create a  dashboard   focusing on sales and profit analysis."
   ]
  },
  {
   "cell_type": "code",
   "execution_count": 13,
   "metadata": {},
   "outputs": [],
   "source": [
    "import dash\n",
    "from dash import Dash\n",
    "from dash import dcc\n",
    "from dash import html\n",
    "from dash.dependencies import Input, Output\n",
    "import plotly.express as px\n",
    "\n",
    "\n"
   ]
  },
  {
   "cell_type": "code",
   "execution_count": 8,
   "metadata": {},
   "outputs": [],
   "source": [
    "# Sales by Category Bar Chart\n",
    "def update_charts(selected_city):\n",
    "    filtered_df = df[df['City'] == selected_city]\n",
    "    \n",
    "    # Sales by Category Bar Chart\n",
    "    sales_bar_chart = px.bar(\n",
    "        filtered_df.groupby('Category')['Sales'].sum().reset_index(),\n",
    "        x='Category', y='Sales',\n",
    "        title=f'Sales by Category for {selected_city}'\n",
    "    )\n",
    "    \n",
    "    # Sub-Category Profit Line Chart\n",
    "    profit_line_chart = px.line(\n",
    "        filtered_df.groupby('Sub-Category')['Profit'].sum().reset_index(),\n",
    "        x='Sub-Category', y='Profit',\n",
    "        title=f'Monthly Profit for {selected_city}'\n",
    "    )\n",
    "    \n",
    "    return sales_bar_chart, profit_line_chart\n",
    "\n"
   ]
  },
  {
   "cell_type": "code",
   "execution_count": 14,
   "metadata": {},
   "outputs": [],
   "source": [
    "# Initialize the Dash app\n",
    "app = Dash(__name__)\n",
    "\n",
    "# Define the layout\n",
    "app.layout = html.Div([\n",
    "    html.H1(\"Superstore Sales Dashboard\", style={'text-align': 'center'}),\n",
    "    \n",
    "    dcc.Dropdown(\n",
    "        id='country-dropdown',\n",
    "        options=[{'label': str(city), 'value': city} for city in df['City'].unique()],\n",
    "        value=df['City'].min(),\n",
    "        clearable=False,\n",
    "        style={'width': '50%', 'margin': '0 auto'}\n",
    "    ),\n",
    "    \n",
    "    dcc.Graph(id='sales-bar-chart'),\n",
    "    dcc.Graph(id='profit-line-chart')\n",
    "])\n"
   ]
  },
  {
   "cell_type": "code",
   "execution_count": 15,
   "metadata": {},
   "outputs": [],
   "source": [
    "# Define callback\n",
    "@app.callback(\n",
    "    [Output('sales-bar-chart', 'figure'),\n",
    "     Output('profit-line-chart', 'figure')],\n",
    "    [Input('country-dropdown', 'value')]\n",
    ")\n",
    "def update_charts(selected_city):\n",
    "    filtered_df = df[df['City'] == selected_city]\n",
    "    \n",
    "    # Sales by Category Bar Chart\n",
    "    sales_bar_chart = px.bar(\n",
    "        filtered_df.groupby('Category')['Sales'].sum().reset_index(),\n",
    "        x='Category', y='Sales',\n",
    "        title=f'Sales by Category for {selected_city}'\n",
    "    )\n",
    "    \n",
    "    # Sub-Category Profit Line Chart\n",
    "    profit_line_chart = px.line(\n",
    "        filtered_df.groupby('Sub-Category')['Profit'].sum().reset_index(),\n",
    "        x='Sub-Category', y='Profit',\n",
    "        title=f'Monthly Profit for {selected_city}'\n",
    "    )\n",
    "    \n",
    "    return sales_bar_chart, profit_line_chart\n"
   ]
  },
  {
   "cell_type": "code",
   "execution_count": 16,
   "metadata": {},
   "outputs": [
    {
     "data": {
      "text/html": [
       "\n",
       "        <iframe\n",
       "            width=\"100%\"\n",
       "            height=\"650\"\n",
       "            src=\"http://127.0.0.1:8050/\"\n",
       "            frameborder=\"0\"\n",
       "            allowfullscreen\n",
       "            \n",
       "        ></iframe>\n",
       "        "
      ],
      "text/plain": [
       "<IPython.lib.display.IFrame at 0x1ff206fa550>"
      ]
     },
     "metadata": {},
     "output_type": "display_data"
    }
   ],
   "source": [
    "# Run the app\n",
    "if __name__ == '__main__':\n",
    "    app.run_server(debug=True)"
   ]
  }
 ],
 "metadata": {
  "kernelspec": {
   "display_name": "Python 3",
   "language": "python",
   "name": "python3"
  },
  "language_info": {
   "codemirror_mode": {
    "name": "ipython",
    "version": 3
   },
   "file_extension": ".py",
   "mimetype": "text/x-python",
   "name": "python",
   "nbconvert_exporter": "python",
   "pygments_lexer": "ipython3",
   "version": "3.11.7"
  }
 },
 "nbformat": 4,
 "nbformat_minor": 2
}
